{
 "cells": [
  {
   "cell_type": "markdown",
   "metadata": {},
   "source": [
    "## Data Visualization Course - HCMUS\n",
    "### Personal Lap 01 - Principle Components Analysis Visualization\n",
    "##### Oct 23, 2024.\n",
    "#### Class: 22_21\n",
    "#### Student ID: 22120412.\n",
    "#### Student Name: Nguyen Anh Tuong"
   ]
  },
  {
   "cell_type": "markdown",
   "metadata": {},
   "source": [
    "### Load the libraries"
   ]
  },
  {
   "cell_type": "code",
   "execution_count": 1,
   "metadata": {},
   "outputs": [],
   "source": [
    "#Load the library\n",
    "import numpy as np\n",
    "import pandas as pd\n",
    "import matplotlib.pyplot as plt\n",
    "%matplotlib inline\n",
    "\n",
    "# Scikit-learn libaries\n",
    "from sklearn.decomposition import PCA\n",
    "from sklearn.preprocessing import StandardScaler\n",
    "from sklearn.datasets import load_sample_image"
   ]
  },
  {
   "cell_type": "markdown",
   "metadata": {},
   "source": [
    "### Section 1: **Study about PCA:** motivation, problem statement, PCA algorithms, numerical demo with Python."
   ]
  },
  {
   "cell_type": "code",
   "execution_count": null,
   "metadata": {},
   "outputs": [],
   "source": [
    "\n",
    "#Demo numerical \n",
    "\n",
    "np.random.seed(0)\n",
    "\n",
    "data = np.random.rand(10, 15)\n",
    "\n",
    "columns = ['Feature_1', 'Feature_2', 'Feature_3', 'Feature_4', 'Feature_5','Feature_6', 'Feature_7', 'Feature_8', 'Feature_9', 'Feature_10','Feature_11', 'Feature_12', 'Feature_13', 'Feature_14', 'Feature_15']\n",
    "df = pd.DataFrame(data, columns=columns)\n",
    "\n",
    "# Standardize\n",
    "scaler = StandardScaler()\n",
    "scaled_data = scaler.fit_transform(df)\n",
    "\n",
    "# Apply PCA - using Scikit learn\n",
    "pca = PCA(n_components=5)\n",
    "pca_data = pca.fit_transform(scaled_data)\n",
    "\n",
    "pca_df = pd.DataFrame(pca_data, columns=['Principal Component 1', 'Principal Component 2','Principal Component 3', 'Principal Component 4','Principal Component 5'])\n",
    "\n",
    "# Concatenate the original data with the PCA results\n",
    "original_and_pca_df = pd.concat([df, pca_df], axis=1)\n",
    "\n",
    "print(original_and_pca_df)\n",
    "\n",
    "original_and_pca_df.to_csv(\"output.csv\",sep= '\\t', header=True)\n"
   ]
  },
  {
   "cell_type": "code",
   "execution_count": null,
   "metadata": {},
   "outputs": [],
   "source": [
    "#Read the dataset\n",
    "def read_wine_csv(file_path):\n",
    "    dataset = pd.read_csv(file_path, delimiter=',', header=0)\n",
    "    \n",
    "    print(dataset.head())\n",
    "    \n",
    "    return dataset\n",
    "\n",
    "file_path = 'Wine.csv'\n",
    "\n",
    "wine_dataset = read_wine_csv(file_path)"
   ]
  },
  {
   "cell_type": "markdown",
   "metadata": {},
   "source": [
    "### Section 3: Appling PCA on my choose dataset."
   ]
  },
  {
   "cell_type": "code",
   "execution_count": null,
   "metadata": {},
   "outputs": [],
   "source": [
    "#Wine Dataset\n",
    "\n",
    "X = wine_dataset.drop('Customer_Segment', axis=1)  # Data\n",
    "y = wine_dataset['Customer_Segment']  # Label\n",
    "\n",
    "#PCA Processing\n",
    "scaler = StandardScaler()\n",
    "X_scaled = scaler.fit_transform(X)\n",
    "pca = PCA(n_components=2)\n",
    "X_pca = pca.fit_transform(X_scaled)\n",
    "\n",
    "print(X_pca[:50]) \n",
    "\n",
    "#Visualization\n",
    "plt.figure(figsize=(8,6))\n",
    "plt.scatter(X_pca[:, 0], X_pca[:, 1], c=y)\n",
    "plt.xlabel('Principal Component 1')\n",
    "plt.ylabel('Principal Component 2')\n",
    "plt.title('PCA on Wine Dataset')\n",
    "plt.show()"
   ]
  },
  {
   "cell_type": "markdown",
   "metadata": {},
   "source": [
    "### SubSection: Implementing from Scratch with Numpy."
   ]
  },
  {
   "cell_type": "code",
   "execution_count": null,
   "metadata": {},
   "outputs": [],
   "source": [
    "# Input processing.\n",
    "X = wine_dataset.drop('Customer_Segment', axis=1) # Data.\n",
    "y = wine_dataset['Customer_Segment'] # label.\n",
    "\n",
    "#Standardlize the mean.\n",
    "X_mean = np.sum(X, axis=0) / X.shape[0]\n",
    "X_mean_standardized = X - X_mean\n",
    "\n",
    "#Standarlize the variance.\n",
    "X_std = X_mean_standardized / np.std(X, axis = 0)\n",
    "\n",
    "#find covariance matrix.\n",
    "cov_matrix = np.dot(X_std.T, X_std) / ( X_std.shape[0] - 1)\n",
    "\n",
    "#find eigenvalues and eigenvectors\n",
    "eigenvalues, eigenvectors = np.linalg.eigh(cov_matrix)\n",
    "\n",
    "#Arrange descending to get the maximum first.\n",
    "desc_indexing = np.argsort(eigenvalues)[::-1]\n",
    "desc_eigenvalues = eigenvalues[desc_indexing]\n",
    "desc_eigenvectors = eigenvectors[:, desc_indexing]\n",
    "\n",
    "# I got 2 first principle components\n",
    "needed_eignvectors = desc_eigenvectors[:, : 2]\n",
    "X_pca = np.dot(X_std, needed_eignvectors)\n",
    "\n",
    "#Show 50 first rows\n",
    "print(X_pca[:50])\n",
    "\n",
    "#Visualize\n",
    "plt.figure(figsize=(8,6))\n",
    "plt.scatter(X_pca[:, 0], X_pca[:, 1], c=y)\n",
    "plt.xlabel('Principal Component 1')\n",
    "plt.ylabel('Principal Component 2')\n",
    "plt.title('PCA on Wine Dataset')\n",
    "plt.show()"
   ]
  },
  {
   "cell_type": "markdown",
   "metadata": {},
   "source": [
    "### Section 4: Study its application in data preprocessing (e.g., handling missing values)"
   ]
  },
  {
   "cell_type": "code",
   "execution_count": null,
   "metadata": {},
   "outputs": [],
   "source": [
    "#Flower.jpg\n",
    "\n",
    "flower = load_sample_image(\"flower.jpg\")  \n",
    "gray_flower = np.mean(flower, axis=2)  \n",
    "\n",
    "plt.figure(figsize=(6,6))\n",
    "plt.imshow(gray_flower, cmap='gray')\n",
    "plt.title(\"Ảnh gốc\")\n",
    "plt.show()\n",
    "\n",
    "pca = PCA(50)\n",
    "transformed_data = pca.fit_transform(gray_flower)\n",
    "\n",
    "reconstructed_image = pca.inverse_transform(transformed_data)\n",
    "\n",
    "plt.figure(figsize=(6,6))\n",
    "plt.imshow(reconstructed_image, cmap='gray')\n",
    "plt.title(\"Ảnh sau khi nén bằng PCA\")\n",
    "plt.show()\n",
    "\n",
    "#------------------------------------------------------------\n",
    "\n",
    "#china.jpg\n",
    "\n",
    "\n",
    "china = load_sample_image(\"china.jpg\")  \n",
    "gray_china = np.mean(china, axis=2)  \n",
    "\n",
    "plt.figure(figsize=(6,6))\n",
    "plt.imshow(gray_china, cmap='gray')\n",
    "plt.title(\"Ảnh gốc\")\n",
    "plt.show()\n",
    "\n",
    "pca = PCA(50)\n",
    "transformed_data_china = pca.fit_transform(gray_china)\n",
    "\n",
    "reconstructed_image_china = pca.inverse_transform(transformed_data_china)\n",
    "\n",
    "plt.figure(figsize=(6,6))\n",
    "plt.imshow(reconstructed_image_china, cmap='gray')\n",
    "plt.title(\"Ảnh sau khi nén bằng PCA\")\n",
    "plt.show()"
   ]
  },
  {
   "cell_type": "code",
   "execution_count": null,
   "metadata": {},
   "outputs": [],
   "source": []
  }
 ],
 "metadata": {
  "kernelspec": {
   "display_name": "base",
   "language": "python",
   "name": "python3"
  },
  "language_info": {
   "codemirror_mode": {
    "name": "ipython",
    "version": 3
   },
   "file_extension": ".py",
   "mimetype": "text/x-python",
   "name": "python",
   "nbconvert_exporter": "python",
   "pygments_lexer": "ipython3",
   "version": "3.12.4"
  }
 },
 "nbformat": 4,
 "nbformat_minor": 2
}
